{
 "cells": [
  {
   "cell_type": "code",
   "execution_count": 1,
   "id": "8c5ef417",
   "metadata": {},
   "outputs": [],
   "source": [
    "import json\n",
    "\n",
    "anno_path = \"/root//autodl-tmp/datasets/mimic_cxr/annotation.json\"\n",
    "images_path = \"/root/autodl-tmp/datasets/mimic_cxr/images.json\"\n",
    "with open(anno_path, \"r\") as f:\n",
    "    anno = json.load(f)"
   ]
  },
  {
   "cell_type": "code",
   "execution_count": 3,
   "id": "ca7f5d62",
   "metadata": {},
   "outputs": [],
   "source": [
    "def get_samples_by_disease(anno, disease, split=\"train\", mode=\"pure\"):\n",
    "    label_names = [\n",
    "        \"Atelectasis\",\n",
    "        \"Cardiomegaly\",\n",
    "        \"Consolidation\",\n",
    "        \"Edema\",\n",
    "        \"Enlarged Cardiomediastinum\",\n",
    "        \"Fracture\",\n",
    "        \"Lung Lesion\",\n",
    "        \"Lung Opacity\",\n",
    "        \"Pleural Effusion\",\n",
    "        \"Pneumonia\",\n",
    "        \"Pneumothorax\",\n",
    "        \"Pleural Other\",\n",
    "        \"Support Devices\",\n",
    "        \"No Finding\"\n",
    "    ]\n",
    "    disease_samples = []\n",
    "    disease_idx = label_names.index(disease)\n",
    "    for item in anno[split]:\n",
    "        if item[\"label_vec\"][disease_idx] == 1:\n",
    "            if mode == \"pure\":\n",
    "                if 1 not in [i for idx, i in enumerate(item[\"label_vec\"]) if idx != disease_idx]:\n",
    "                    disease_samples.append(item)\n",
    "            else:\n",
    "                disease_samples.append(item)\n",
    "    return disease_samples"
   ]
  },
  {
   "cell_type": "code",
   "execution_count": 6,
   "id": "3e990e7d",
   "metadata": {},
   "outputs": [
    {
     "name": "stdout",
     "output_type": "stream",
     "text": [
      "Number of samples for Atelectasis: 7375\n",
      "Saved Atelectasis samples to /root/autodl-tmp/wh/med_report_R1/assets/disease_samples/Atelectasis.json\n",
      "Number of samples for Cardiomegaly: 9009\n",
      "Saved Cardiomegaly samples to /root/autodl-tmp/wh/med_report_R1/assets/disease_samples/Cardiomegaly.json\n",
      "Number of samples for Consolidation: 1055\n",
      "Saved Consolidation samples to /root/autodl-tmp/wh/med_report_R1/assets/disease_samples/Consolidation.json\n",
      "Number of samples for Edema: 4076\n",
      "Saved Edema samples to /root/autodl-tmp/wh/med_report_R1/assets/disease_samples/Edema.json\n",
      "Number of samples for Enlarged Cardiomediastinum: 756\n",
      "Saved Enlarged Cardiomediastinum samples to /root/autodl-tmp/wh/med_report_R1/assets/disease_samples/Enlarged Cardiomediastinum.json\n",
      "Number of samples for Fracture: 2303\n",
      "Saved Fracture samples to /root/autodl-tmp/wh/med_report_R1/assets/disease_samples/Fracture.json\n",
      "Number of samples for Lung Lesion: 1967\n",
      "Saved Lung Lesion samples to /root/autodl-tmp/wh/med_report_R1/assets/disease_samples/Lung Lesion.json\n",
      "Number of samples for Lung Opacity: 14056\n",
      "Saved Lung Opacity samples to /root/autodl-tmp/wh/med_report_R1/assets/disease_samples/Lung Opacity.json\n",
      "Number of samples for Pleural Effusion: 117157\n",
      "Saved Pleural Effusion samples to /root/autodl-tmp/wh/med_report_R1/assets/disease_samples/Pleural Effusion.json\n",
      "Number of samples for Pneumonia: 6843\n",
      "Saved Pneumonia samples to /root/autodl-tmp/wh/med_report_R1/assets/disease_samples/Pneumonia.json\n",
      "Number of samples for Pneumothorax: 421\n",
      "Saved Pneumothorax samples to /root/autodl-tmp/wh/med_report_R1/assets/disease_samples/Pneumothorax.json\n",
      "Number of samples for Pleural Other: 5152\n",
      "Saved Pleural Other samples to /root/autodl-tmp/wh/med_report_R1/assets/disease_samples/Pleural Other.json\n",
      "Number of samples for Support Devices: 1995\n",
      "Saved Support Devices samples to /root/autodl-tmp/wh/med_report_R1/assets/disease_samples/Support Devices.json\n",
      "Number of samples for No Finding: 1664\n",
      "Saved No Finding samples to /root/autodl-tmp/wh/med_report_R1/assets/disease_samples/No Finding.json\n"
     ]
    }
   ],
   "source": [
    "import os\n",
    "import json\n",
    "\n",
    "diseases = [\n",
    "    \"Atelectasis\",\n",
    "    \"Cardiomegaly\",\n",
    "    \"Consolidation\",\n",
    "    \"Edema\",\n",
    "    \"Enlarged Cardiomediastinum\",\n",
    "    \"Fracture\",\n",
    "    \"Lung Lesion\",\n",
    "    \"Lung Opacity\",\n",
    "    \"Pleural Effusion\",\n",
    "    \"Pneumonia\",\n",
    "    \"Pneumothorax\",\n",
    "    \"Pleural Other\",\n",
    "    \"Support Devices\",\n",
    "    \"No Finding\"\n",
    "]\n",
    "\n",
    "save_path = \"/root/autodl-tmp/wh/med_report_R1/assets/disease_samples\"\n",
    "for disease in diseases:\n",
    "    disease_samples = get_samples_by_disease(anno, disease, split=\"train\", mode=\"pure\")\n",
    "    print(f\"Number of samples for {disease}: {len(disease_samples)}\")\n",
    "    save_file = os.path.join(save_path, f\"{disease}.json\")\n",
    "    with open(save_file, \"w\") as f:\n",
    "        json.dump(disease_samples, f, indent=4)\n",
    "    print(f\"Saved {disease} samples to {save_file}\")"
   ]
  }
 ],
 "metadata": {
  "kernelspec": {
   "display_name": "verl_med_report",
   "language": "python",
   "name": "python3"
  },
  "language_info": {
   "codemirror_mode": {
    "name": "ipython",
    "version": 3
   },
   "file_extension": ".py",
   "mimetype": "text/x-python",
   "name": "python",
   "nbconvert_exporter": "python",
   "pygments_lexer": "ipython3",
   "version": "3.10.0"
  }
 },
 "nbformat": 4,
 "nbformat_minor": 5
}
