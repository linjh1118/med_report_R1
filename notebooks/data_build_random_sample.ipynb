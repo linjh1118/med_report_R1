{
 "cells": [
  {
   "cell_type": "code",
   "execution_count": 1,
   "id": "59331160",
   "metadata": {},
   "outputs": [],
   "source": [
    "import json\n",
    "\n",
    "anno_path = \"/root/autodl-tmp/datasets/mimic_cxr/annotation_filtered.json\"\n",
    "images_path = \"/root/autodl-tmp/datasets/mimic_cxr/images.json\"\n",
    "with open(anno_path, \"r\") as f:\n",
    "    anno = json.load(f)"
   ]
  },
  {
   "cell_type": "code",
   "execution_count": 2,
   "id": "7343c25b",
   "metadata": {},
   "outputs": [],
   "source": [
    "import json\n",
    "import pandas as pd\n",
    "from pathlib import Path\n",
    "\n",
    "# Convert origin dataset to the format required by the easy-r1\n",
    "def data_convert(data):\n",
    "    converted_data = {\n",
    "        \"images\": [],\n",
    "        \"problem\": [],\n",
    "        \"answer\": []\n",
    "    }\n",
    "    for item in data:\n",
    "        converted_data[\"images\"].append([\n",
    "           Path(image_path).read_bytes() for image_path in item[\"image_path\"]\n",
    "        ])\n",
    "        converted_data[\"problem\"].append(\n",
    "            \"<image>\" * len(item[\"image_path\"]) + \\\n",
    "            \"You are an experienced radiologist skilled in analyzing chest X-rays. Please analyze this chest X-ray and respond in exact format: <think>[Your radiological reasoning, including findings and differential diagnosis]</think><answer>[Your final report, containing clear observations and recommendations, should be a paragraph]</answer>\"\n",
    "        )\n",
    "        converted_data[\"answer\"].append(item[\"answer\"])\n",
    "    return converted_data\n",
    "    \n",
    "# Convert JSON file to Parquet format\n",
    "def json_to_parquet(json_file_path, parquet_file_path):\n",
    "    with open(json_file_path, \"r\") as f:\n",
    "        data = json.load(f)\n",
    "    \n",
    "    converted_data = data_convert(data)\n",
    "    \n",
    "    df = pd.DataFrame(converted_data)\n",
    "    df.to_parquet(parquet_file_path, index=False)\n",
    "    pass"
   ]
  },
  {
   "cell_type": "code",
   "execution_count": null,
   "id": "157e2dc7",
   "metadata": {},
   "outputs": [
    {
     "name": "stderr",
     "output_type": "stream",
     "text": [
      "100%|██████████| 1300/1300 [00:00<00:00, 31458.79it/s]\n",
      "100%|██████████| 1429/1429 [00:00<00:00, 33682.85it/s]\n"
     ]
    }
   ],
   "source": [
    "# train data create\n",
    "import os\n",
    "import random\n",
    "from copy import deepcopy\n",
    "from tqdm import tqdm\n",
    "\n",
    "train_json_file_path = \"/root/autodl-tmp/wh/med_report_R1/assets/random_samples_train.json\"\n",
    "train_parquet_file_path = \"/root/autodl-tmp/wh/med_report_R1/assets/random_samples_train.parquet\"\n",
    "train_data = []\n",
    "for item in tqdm(random.sample(anno['train'], 1300)):\n",
    "    train_data.append(deepcopy(item))\n",
    "    train_data[-1]['answer'] = json.dumps({'label_vec': item['label_vec'], 'report': item['report']})\n",
    "    train_data[-1]['image_path'] = [os.path.join(images_path, image_path) for image_path in item[\"image_path\"]]\n",
    "with open(train_json_file_path, \"w\") as f:\n",
    "    json.dump(train_data, f, indent=4)\n",
    "json_to_parquet(train_json_file_path, train_parquet_file_path)\n",
    "\n",
    "test_json_file_path = \"/root/autodl-tmp/wh/med_report_R1/assets/random_samples_test.json\"\n",
    "test_parquet_file_path = \"/root/autodl-tmp/wh/med_report_R1/assets/random_samples_test.parquet\"\n",
    "test_data = []\n",
    "for item in tqdm(anno['test']):\n",
    "    test_data.append(deepcopy(item))\n",
    "    test_data[-1]['answer'] = json.dumps({'label_vec': item['label_vec'], 'report': item['report']})\n",
    "    test_data[-1]['image_path'] = [os.path.join(images_path, image_path) for image_path in item[\"image_path\"]]\n",
    "with open(test_json_file_path, \"w\") as f:\n",
    "    json.dump(test_data, f, indent=4)\n",
    "json_to_parquet(test_json_file_path, test_parquet_file_path)"
   ]
  }
 ],
 "metadata": {
  "kernelspec": {
   "display_name": "verl_med_report",
   "language": "python",
   "name": "python3"
  },
  "language_info": {
   "codemirror_mode": {
    "name": "ipython",
    "version": 3
   },
   "file_extension": ".py",
   "mimetype": "text/x-python",
   "name": "python",
   "nbconvert_exporter": "python",
   "pygments_lexer": "ipython3",
   "version": "3.10.0"
  }
 },
 "nbformat": 4,
 "nbformat_minor": 5
}
